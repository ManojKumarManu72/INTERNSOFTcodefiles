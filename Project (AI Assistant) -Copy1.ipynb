{
 "cells": [
  {
   "cell_type": "code",
   "execution_count": 1,
   "metadata": {},
   "outputs": [],
   "source": [
    "import speech_recognition as sr\n",
    "import pyttsx3\n",
    "import os\n",
    "import time\n",
    "import subprocess\n",
    "import json\n",
    "import wolframalpha\n",
    "import requests\n",
    "import webbrowser\n",
    "import wikipedia\n",
    "import datetime\n",
    "import pyaudio"
   ]
  },
  {
   "cell_type": "code",
   "execution_count": 2,
   "metadata": {},
   "outputs": [
    {
     "name": "stdout",
     "output_type": "stream",
     "text": [
      "**LOADING YOUR AI PERSONAL ASSISTANT**\n"
     ]
    }
   ],
   "source": [
    "print('**LOADING YOUR AI PERSONAL ASSISTANT**')\n",
    "engine = pyttsx3.init('sapi5')\n",
    "voices = engine.getProperty('voices')\n",
    "engine.setProperty(\"voice\",'voices[0].id')\n",
    "def speak(text):\n",
    "    engine.say(text)\n",
    "    engine.runAndWait()\n",
    "def wishMe():\n",
    "    hour = datetime.datetime.now().hour\n",
    "    if hour >= 0 and hour < 12:\n",
    "        speak(\"Hello, Good morning Manoj, have a great day ahead..\")\n",
    "        print(\"Hello, Goodmorning Manoj, have a great day ahead..\")\n",
    "    elif hour >=12 and hour <=18:\n",
    "        speak(\"Hello, Good afternoon Manoj, have a nice rest of the day..\")\n",
    "        print(\"Hello, Good afternoon Manoj, have a nice rest of the day..\")\n",
    "    elif hour >18 and hour<=21:\n",
    "        speak(\"Hello, Good evening Manoj, how was your day?\")\n",
    "        print(\"Hello, Good evening Manoj, how was your day?\")\n",
    "    else:\n",
    "        speak(\"Hello, Good night Manoj, go to sleep..\")\n",
    "        print(\"Hello, Good night Manoj, go to sleep..\")\n",
    "def takeCommand():\n",
    "    r = sr.Recognizer()\n",
    "    with sr.Microphone() as source:\n",
    "        print(\"I am Listening....\")\n",
    "        audio = r.listen(source)\n",
    "        try:\n",
    "            statement = r.recognize_google(audio,language='en-in')\n",
    "            print(f\"user said:{statement}\\n\")\n",
    "        except Exception as e:\n",
    "            speak(\"Please Repeat\")\n",
    "            return \"None\"\n",
    "        return statement"
   ]
  },
  {
   "cell_type": "code",
   "execution_count": 3,
   "metadata": {},
   "outputs": [
    {
     "name": "stdout",
     "output_type": "stream",
     "text": [
      "Hello, Good afternoon Manoj, have a nice rest of the day..\n"
     ]
    }
   ],
   "source": [
    "speak(\"LOADING YOUR AI PERSONAL ASSISTANT\")\n",
    "wishMe()"
   ]
  },
  {
   "cell_type": "code",
   "execution_count": null,
   "metadata": {},
   "outputs": [
    {
     "name": "stdout",
     "output_type": "stream",
     "text": [
      "I am Listening....\n"
     ]
    }
   ],
   "source": [
    "if __name__=='__main__':\n",
    "    while True:\n",
    "        speak(\"How can i help you Manoj?\")\n",
    "        statement = takeCommand().lower()\n",
    "        if statement == 0:\n",
    "            continue\n",
    "            \n",
    "        if \"Good bye\" in statement or \"ok bye\" in statement or \"stop\" in statement:\n",
    "            speak(\"Your personal AI is Shutting down, Good bye!\")\n",
    "            print(\"**Your personal AI is Shutting down, Good bye!**\")\n",
    "            break\n",
    "            \n",
    "        if 'wikipedia' in statement:\n",
    "            speak(\"Searching wikipedia...\")\n",
    "            statement = statement.replace(\"wikipedia\",\" \")\n",
    "            results = wikipedia.summary(statement , sentences = 3)\n",
    "            speak(\"According to wikipedia....\")\n",
    "            print(results)\n",
    "            speak(results)\n",
    "            \n",
    "        elif \"open youtube\" in statement:\n",
    "            webbrowser.open_new_tab(\"https://www.youtube.com\")\n",
    "            speak(\"Youtube is open\")\n",
    "            print(\"Youtube is open\")\n",
    "            time.sleep(5)\n",
    "            \n",
    "        elif \"open google\" in statement:\n",
    "            webbrowser.open_new_tab(\"https://www.google.com\")\n",
    "            speak(\"Google search is open for you\")\n",
    "            print(\"Google search is open for you\")\n",
    "            time.sleep(5)\n",
    "        elif \"weather\" in statement:\n",
    "            api_key = \"8ef61edcf1c576d65d836254e11ea420\"\n",
    "            base_url =\"https://api.openweathermap.org/data/2.5/weather?\"\n",
    "            speak(\"whats the city name\")\n",
    "            city_name = takeCommand()\n",
    "            complete_url = base_url+\"appid = \"+api_key+\"&q=\"+city_name\n",
    "            response = requests.get(complete_url)\n",
    "            x = response.json()\n",
    "            if x[\"cod\"] != \"404\":\n",
    "                y = x[\"main\"]\n",
    "                current_temperature = y[\"temp\"]\n",
    "                current_humidity = y[\"humidity\"]\n",
    "                z = x[\"weather\"]\n",
    "                weather_description = z[0][\"description\"]\n",
    "                speak(\" the temperature in kelvin units is \" + str(current_temperature) +\"\\n humidity in percentage is\" + str(current_humidity) + \"\\n weather description\" + str(weather_description))\n",
    "                print(\"the temperature in kelvin units is \" + str(current_temperature) +\"\\n humidity in percentage is\" + str(current_humidity) + \"\\n weather description\" + str(weather_description))\n",
    "            else:\n",
    "                speak(\"City not found\")\n",
    "                print(\"City not found!!\")\n",
    "                    \n",
    "        elif \"time\" in statement:\n",
    "                    strTime = datetime.datetime.now().strftime(\"%H:%M:%S\")\n",
    "                    speak(f\"the time is {strTime}\")\n",
    "                    print((f\"the time is {strTime}\"))\n",
    "                          \n",
    "        elif \"who are you\" in statement or \"what can you do\" in statement:\n",
    "                    speak(\"Im Your Personal AI Assistant Manoj, im here to make your life easier, by taking commands from you\")\n",
    "                    print(\"Im Your Personal AI Assistant Manoj, im here to make your life easier, by taking commands from you\")\n",
    "        elif \"who built you\" in statement or \"who created you\" in statement or \"who discovered you\" in statement:\n",
    "                    speak(\"Ofcourse you Manoj Kumar!\")\n",
    "                    print(\"ofcourse you Manoj Kumar!\")\n",
    "                          \n",
    "        elif \"open stackoverflow\" in statement:\n",
    "                    webbrowser.open_new_tab(\"https://stackoverflow.com/login\")\n",
    "                    time.sleep(5)\n",
    "                          \n",
    "        elif \"news\" in statement:\n",
    "                    news = webbrowser.open_new_tab(\"https://timesofindia.Indiatimes.com/home/headlines\")\n",
    "                    speak(\"The news for the day\")\n",
    "                    time.sleep(7)\n",
    "                          \n",
    "        elif \"search\" in statement:\n",
    "                    statement = statement.replace(\"search\",\" \")\n",
    "                    webbrowser.open_new_tab(\"statement\")\n",
    "                    time.sleep(5)\n",
    "                          \n",
    "                          \n",
    "        elif \"ask\" in statement:\n",
    "                    speak(\"I can answer to computational and geographical questions too just try me !! what do you want to ask \")\n",
    "                    question = Command()\n",
    "                    app_id = \" RQKEAJ-27889QJKWA\"\n",
    "                    client = wolframalpha.Client('RQKEAJ-27889QJKWA')\n",
    "                    res = client.query(question)\n",
    "                    answer = next(res.results).text\n",
    "                    speak(answer)\n",
    "                    print(answer)\n",
    "                          \n",
    "        elif \"log off\" in statement or \"sign out\" in statement or \"shut down\" in statement:\n",
    "                    speak(\"Ok, Your PC will shut down, Good Bye\")\n",
    "                    subprocess.call(['shutdown',\"/1\"])\n",
    "                          \n",
    "                          \n",
    "    time.sleep(5)"
   ]
  },
  {
   "cell_type": "code",
   "execution_count": null,
   "metadata": {},
   "outputs": [],
   "source": []
  }
 ],
 "metadata": {
  "kernelspec": {
   "display_name": "Python 3",
   "language": "python",
   "name": "python3"
  },
  "language_info": {
   "codemirror_mode": {
    "name": "ipython",
    "version": 3
   },
   "file_extension": ".py",
   "mimetype": "text/x-python",
   "name": "python",
   "nbconvert_exporter": "python",
   "pygments_lexer": "ipython3",
   "version": "3.8.8"
  }
 },
 "nbformat": 4,
 "nbformat_minor": 4
}
